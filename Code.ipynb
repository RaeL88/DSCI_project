{
 "cells": [
  {
   "cell_type": "markdown",
   "id": "31f913c2-bff2-4699-a2dc-f58172f833a6",
   "metadata": {},
   "source": [
    "How are you going to process the data to apply it\n",
    "   to the model? (ex. how many splits, what proportions \n",
    "                  will you use for the splits, at which\n",
    "                  stage will you split, will there be a \n",
    "                  validation set? Will you use cross\n",
    "                  validation? \n",
    "\n",
    "- 5 splits will be used\n",
    "- 75% of the data will be used for training, 25% for testing\n",
    "-5 fold cross-validation will be used with the minumum RMSPE K value\n",
    "- We first standardize the data in the recipe\n",
    "- Then we make the spec\n",
    "- then we use 5 fold cross validation\n",
    "  "
   ]
  },
  {
   "cell_type": "markdown",
   "id": "c5df2313-222e-4e0d-916c-3c3d5cad0190",
   "metadata": {},
   "source": [
    "Broad Question: Question 2 (We would like to know which \"kinds\"\n",
    "                            of players are most likely to contribute\n",
    "                            a large amount of data so that we can target\n",
    "                            those players in our recruiting efforts)\n",
    "\n",
    "Specific Question: What gender and age group plays the longest hours? \n",
    "\n",
    "How the data will address the question of interest \n",
    "(The plan for wrangling to apply a predictive method \n",
    " from class):\n",
    "\n",
    "The data will find the gender and age groups that play the most hours, \n",
    "so that they can be recruited as they contribute a large amount of data. \n",
    "\n",
    "The plan is to use multivariable KNN regression in order to predict\n",
    "the hours a participant of a certain gender and age\n",
    "group will play. \n",
    "\n",
    "The players data set will be used."
   ]
  },
  {
   "cell_type": "code",
   "execution_count": null,
   "id": "e0afd619-bad8-45c8-8b14-37cefed83dac",
   "metadata": {},
   "outputs": [],
   "source": []
  }
 ],
 "metadata": {
  "kernelspec": {
   "display_name": "R",
   "language": "R",
   "name": "ir"
  },
  "language_info": {
   "codemirror_mode": "r",
   "file_extension": ".r",
   "mimetype": "text/x-r-source",
   "name": "R",
   "pygments_lexer": "r",
   "version": "4.3.3"
  }
 },
 "nbformat": 4,
 "nbformat_minor": 5
}
